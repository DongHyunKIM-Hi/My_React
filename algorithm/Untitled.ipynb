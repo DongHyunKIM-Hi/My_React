{
 "cells": [
  {
   "cell_type": "code",
   "execution_count": 1,
   "metadata": {},
   "outputs": [
    {
     "name": "stdout",
     "output_type": "stream",
     "text": [
      "dkssyd\n"
     ]
    }
   ],
   "source": [
    "print('dkssyd')"
   ]
  },
  {
   "cell_type": "code",
   "execution_count": 2,
   "metadata": {},
   "outputs": [
    {
     "name": "stdout",
     "output_type": "stream",
     "text": [
      "hello\n"
     ]
    }
   ],
   "source": [
    "print(\"hello\")"
   ]
  },
  {
   "cell_type": "code",
   "execution_count": 10,
   "metadata": {},
   "outputs": [
    {
     "ename": "IndentationError",
     "evalue": "unindent does not match any outer indentation level (<tokenize>, line 3)",
     "output_type": "error",
     "traceback": [
      "\u001b[1;36m  File \u001b[1;32m\"<tokenize>\"\u001b[1;36m, line \u001b[1;32m3\u001b[0m\n\u001b[1;33m    for i in range(n-1) :\u001b[0m\n\u001b[1;37m    ^\u001b[0m\n\u001b[1;31mIndentationError\u001b[0m\u001b[1;31m:\u001b[0m unindent does not match any outer indentation level\n"
     ]
    }
   ],
   "source": [
    "def selection_sort(A) :\n",
    "\tn = len(A)\n",
    "    for i in range(n-1) :\n",
    "    \tleast = i;\n",
    "        for j in range(i+1,n) :\n",
    "        \tif(A[j] < A[least]) :\n",
    "            \tleast = j\n",
    "        A[i], A[least] = A[least],A[i]\n",
    "        printStep(A,i+1);"
   ]
  },
  {
   "cell_type": "code",
   "execution_count": 36,
   "metadata": {},
   "outputs": [],
   "source": [
    "def selection_sort(A):\n",
    "    n=len(A)\n",
    "    for i in range(n-1):\n",
    "        least = i;\n",
    "        for j in range(i+1,n):\n",
    "            if(A[j]<A[least]):\n",
    "                least = j\n",
    "        A[i],A[least] = A[least], A[i]\n",
    "        print(A,i+1);"
   ]
  },
  {
   "cell_type": "code",
   "execution_count": 37,
   "metadata": {},
   "outputs": [
    {
     "name": "stdout",
     "output_type": "stream",
     "text": [
      "[1, 8, 7, 6, 5, 4, 3, 2, 9] 1\n",
      "[1, 2, 7, 6, 5, 4, 3, 8, 9] 2\n",
      "[1, 2, 3, 6, 5, 4, 7, 8, 9] 3\n",
      "[1, 2, 3, 4, 5, 6, 7, 8, 9] 4\n",
      "[1, 2, 3, 4, 5, 6, 7, 8, 9] 5\n",
      "[1, 2, 3, 4, 5, 6, 7, 8, 9] 6\n",
      "[1, 2, 3, 4, 5, 6, 7, 8, 9] 7\n",
      "[1, 2, 3, 4, 5, 6, 7, 8, 9] 8\n"
     ]
    }
   ],
   "source": [
    "A = [9,8,7,6,5,4,3,2,1]\n",
    "selection_sort(A)"
   ]
  },
  {
   "cell_type": "code",
   "execution_count": 1,
   "metadata": {},
   "outputs": [],
   "source": [
    "def insertion_sort(A):\n",
    "    n = len(A)\n",
    "    for i in range(1,n):\n",
    "        key = A[i]\n",
    "        j = i-1\n",
    "        while j >=0 and A[j] >key:\n",
    "            A[j+1] = A[j]\n",
    "            j-=1\n",
    "        A[j+1] = key\n",
    "        print(A,i)"
   ]
  },
  {
   "cell_type": "code",
   "execution_count": 4,
   "metadata": {},
   "outputs": [
    {
     "name": "stdout",
     "output_type": "stream",
     "text": [
      "[3, 5, 8, 4, 9, 1, 6, 2, 7] 1\n",
      "[3, 5, 8, 4, 9, 1, 6, 2, 7] 2\n",
      "[3, 4, 5, 8, 9, 1, 6, 2, 7] 3\n",
      "[3, 4, 5, 8, 9, 1, 6, 2, 7] 4\n",
      "[1, 3, 4, 5, 8, 9, 6, 2, 7] 5\n",
      "[1, 3, 4, 5, 6, 8, 9, 2, 7] 6\n",
      "[1, 2, 3, 4, 5, 6, 8, 9, 7] 7\n",
      "[1, 2, 3, 4, 5, 6, 7, 8, 9] 8\n"
     ]
    }
   ],
   "source": [
    "a= [5,3,8,4,9,1,6,2,7]\n",
    "insertion_sort(a)"
   ]
  },
  {
   "cell_type": "code",
   "execution_count": 9,
   "metadata": {},
   "outputs": [],
   "source": [
    "def sequential_search(A,key,low,high):\n",
    "    for i in range(low, high+1):\n",
    "        if A[i].key == key:\n",
    "            return 1\n",
    "    return None"
   ]
  },
  {
   "cell_type": "code",
   "execution_count": 10,
   "metadata": {},
   "outputs": [
    {
     "ename": "AttributeError",
     "evalue": "'int' object has no attribute 'key'",
     "output_type": "error",
     "traceback": [
      "\u001b[1;31m---------------------------------------------------------------------------\u001b[0m",
      "\u001b[1;31mAttributeError\u001b[0m                            Traceback (most recent call last)",
      "\u001b[1;32m<ipython-input-10-3c5df0987e5f>\u001b[0m in \u001b[0;36m<module>\u001b[1;34m\u001b[0m\n\u001b[0;32m      1\u001b[0m \u001b[0mA\u001b[0m \u001b[1;33m=\u001b[0m \u001b[1;33m[\u001b[0m\u001b[1;36m1\u001b[0m\u001b[1;33m,\u001b[0m\u001b[1;36m2\u001b[0m\u001b[1;33m,\u001b[0m\u001b[1;36m3\u001b[0m\u001b[1;33m,\u001b[0m\u001b[1;36m4\u001b[0m\u001b[1;33m]\u001b[0m\u001b[1;33m\u001b[0m\u001b[1;33m\u001b[0m\u001b[0m\n\u001b[1;32m----> 2\u001b[1;33m \u001b[0msequential_search\u001b[0m\u001b[1;33m(\u001b[0m\u001b[0mA\u001b[0m\u001b[1;33m,\u001b[0m\u001b[1;36m3\u001b[0m\u001b[1;33m,\u001b[0m\u001b[1;36m1\u001b[0m\u001b[1;33m,\u001b[0m\u001b[1;36m4\u001b[0m\u001b[1;33m)\u001b[0m\u001b[1;33m\u001b[0m\u001b[1;33m\u001b[0m\u001b[0m\n\u001b[0m",
      "\u001b[1;32m<ipython-input-9-e8f148ffa752>\u001b[0m in \u001b[0;36msequential_search\u001b[1;34m(A, key, low, high)\u001b[0m\n\u001b[0;32m      1\u001b[0m \u001b[1;32mdef\u001b[0m \u001b[0msequential_search\u001b[0m\u001b[1;33m(\u001b[0m\u001b[0mA\u001b[0m\u001b[1;33m,\u001b[0m\u001b[0mkey\u001b[0m\u001b[1;33m,\u001b[0m\u001b[0mlow\u001b[0m\u001b[1;33m,\u001b[0m\u001b[0mhigh\u001b[0m\u001b[1;33m)\u001b[0m\u001b[1;33m:\u001b[0m\u001b[1;33m\u001b[0m\u001b[1;33m\u001b[0m\u001b[0m\n\u001b[0;32m      2\u001b[0m     \u001b[1;32mfor\u001b[0m \u001b[0mi\u001b[0m \u001b[1;32min\u001b[0m \u001b[0mrange\u001b[0m\u001b[1;33m(\u001b[0m\u001b[0mlow\u001b[0m\u001b[1;33m,\u001b[0m \u001b[0mhigh\u001b[0m\u001b[1;33m+\u001b[0m\u001b[1;36m1\u001b[0m\u001b[1;33m)\u001b[0m\u001b[1;33m:\u001b[0m\u001b[1;33m\u001b[0m\u001b[1;33m\u001b[0m\u001b[0m\n\u001b[1;32m----> 3\u001b[1;33m         \u001b[1;32mif\u001b[0m \u001b[0mA\u001b[0m\u001b[1;33m[\u001b[0m\u001b[0mi\u001b[0m\u001b[1;33m]\u001b[0m\u001b[1;33m.\u001b[0m\u001b[0mkey\u001b[0m \u001b[1;33m==\u001b[0m \u001b[0mkey\u001b[0m\u001b[1;33m:\u001b[0m\u001b[1;33m\u001b[0m\u001b[1;33m\u001b[0m\u001b[0m\n\u001b[0m\u001b[0;32m      4\u001b[0m             \u001b[1;32mreturn\u001b[0m \u001b[1;36m1\u001b[0m\u001b[1;33m\u001b[0m\u001b[1;33m\u001b[0m\u001b[0m\n\u001b[0;32m      5\u001b[0m     \u001b[1;32mreturn\u001b[0m \u001b[1;32mNone\u001b[0m\u001b[1;33m\u001b[0m\u001b[1;33m\u001b[0m\u001b[0m\n",
      "\u001b[1;31mAttributeError\u001b[0m: 'int' object has no attribute 'key'"
     ]
    }
   ],
   "source": [
    "A = [1,2,3,4]\n",
    "sequential_search(A,3,1,4)"
   ]
  },
  {
   "cell_type": "code",
   "execution_count": 11,
   "metadata": {},
   "outputs": [],
   "source": [
    "def binary_search(A,key,low,high):\n",
    "    if(low<=high):\n",
    "        middle = (low + high)//2\n",
    "        if key ==A[middle].key:\n",
    "            return middle\n",
    "        elif (key<A[middle].key):\n",
    "            return binary_search(A,key,low,middle-1)\n",
    "        else:\n",
    "            return binary_search(A,key,middle+1,high)\n",
    "    return None"
   ]
  },
  {
   "cell_type": "code",
   "execution_count": null,
   "metadata": {},
   "outputs": [],
   "source": []
  },
  {
   "cell_type": "code",
   "execution_count": null,
   "metadata": {},
   "outputs": [],
   "source": []
  }
 ],
 "metadata": {
  "kernelspec": {
   "display_name": "Python 3",
   "language": "python",
   "name": "python3"
  },
  "language_info": {
   "codemirror_mode": {
    "name": "ipython",
    "version": 3
   },
   "file_extension": ".py",
   "mimetype": "text/x-python",
   "name": "python",
   "nbconvert_exporter": "python",
   "pygments_lexer": "ipython3",
   "version": "3.8.5"
  }
 },
 "nbformat": 4,
 "nbformat_minor": 4
}
