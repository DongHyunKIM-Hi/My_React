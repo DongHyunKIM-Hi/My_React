{
 "cells": [
  {
   "cell_type": "code",
   "execution_count": null,
   "metadata": {},
   "outputs": [],
   "source": [
    "class Node:\n",
    "    def __init__(self,data,next=None):\n",
    "        self.data = data\n",
    "        self.next = next\n",
    "class LinkedList:\n",
    "    def __init__(self,data):\n",
    "        self.head = Node(data)\n",
    "    def add(self,data):\n",
    "        if self.head=='':\n",
    "            self.head = Node(data)\n",
    "        else:\n",
    "            node = self.head\n",
    "            while node.next:\n",
    "                node = node.next\n",
    "            node.next = Node(data)\n",
    "    def display(self):\n",
    "        node = self.head\n",
    "        while node:\n",
    "            print(node.data)\n",
    "            node = node.next\n",
    "    def delete(self,data):\n",
    "        if self.head =='':\n",
    "            print(\"해당 값을 가진 노드가 없습니다.\")\n",
    "            return\n",
    "        if self.head.data == data:\n",
    "            tmp = self.head\n",
    "            self.head = self.head.next\n",
    "            del tmp\n",
    "        else:\n",
    "            node = self.head\n",
    "            while node.next:\n",
    "                if node.next.data == data:\n",
    "                    tmp = node.next\n",
    "                    node.next = node.next.next\n",
    "                    del tmp\n",
    "                    return\n",
    "                else:\n",
    "                    node = node.next\n",
    "    def search(self,data):\n",
    "        node = self.head\n",
    "        while node:\n",
    "            if node.data==data:\n",
    "                print(data,\"를 찾았습니다.\")\n",
    "                return\n",
    "            else:\n",
    "                node = node.next"
   ]
  },
  {
   "cell_type": "code",
   "execution_count": null,
   "metadata": {},
   "outputs": [],
   "source": [
    "linkedList = LinkedList(0) \n",
    "for data in range(1,3):\n",
    "    linkedList.add(data)\n",
    "linkedList.display()"
   ]
  },
  {
   "cell_type": "code",
   "execution_count": null,
   "metadata": {},
   "outputs": [],
   "source": [
    "linkedList.delete(1)\n",
    "linkedList.display()"
   ]
  },
  {
   "cell_type": "code",
   "execution_count": null,
   "metadata": {},
   "outputs": [],
   "source": [
    "linkedList.search(2)"
   ]
  },
  {
   "cell_type": "code",
   "execution_count": null,
   "metadata": {},
   "outputs": [],
   "source": []
  }
 ],
 "metadata": {
  "kernelspec": {
   "display_name": "Python 3",
   "language": "python",
   "name": "python3"
  },
  "language_info": {
   "codemirror_mode": {
    "name": "ipython",
    "version": 3
   },
   "file_extension": ".py",
   "mimetype": "text/x-python",
   "name": "python",
   "nbconvert_exporter": "python",
   "pygments_lexer": "ipython3",
   "version": "3.8.5"
  }
 },
 "nbformat": 4,
 "nbformat_minor": 4
}
