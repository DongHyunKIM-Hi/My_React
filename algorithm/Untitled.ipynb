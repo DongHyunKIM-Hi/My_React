{
 "cells": [
  {
   "cell_type": "code",
   "execution_count": 8,
   "metadata": {},
   "outputs": [
    {
     "name": "stdin",
     "output_type": "stream",
     "text": [
      " 4 5 1\n",
      " 1 2\n",
      " 1 3\n",
      " 1 4\n",
      " 2 4\n",
      " 3 4\n"
     ]
    },
    {
     "data": {
      "text/plain": [
       "[[], [2, 3, 4], [1, 4], [1, 4], [1, 2, 3]]"
      ]
     },
     "execution_count": 8,
     "metadata": {},
     "output_type": "execute_result"
    }
   ],
   "source": [
    "n,m,v = map(int,input().split())\n",
    "tmp = [[] for _ in range(n+1)]\n",
    "\n",
    "for _ in range(m):\n",
    "    x,y = map(int,input().split())\n",
    "    tmp[x].append(y)\n",
    "    tmp[y].append(x)\n",
    "tmp"
   ]
  },
  {
   "cell_type": "code",
   "execution_count": 7,
   "metadata": {},
   "outputs": [],
   "source": [
    "coin_list= [1,500,50,10]\n",
    "coin_list.sort(reverse=True)\n",
    "\n",
    "def greedy(value, coin_list):\n",
    "    count = 0\n",
    "    used_coin = []\n",
    "    for coin in coin_list:\n",
    "        coin_num = value // coin\n",
    "        count += coin_num\n",
    "        value -= coin_num * coin\n",
    "        used_coin.append([coin, coin_num])\n",
    "    return used_coin, count"
   ]
  },
  {
   "cell_type": "code",
   "execution_count": 8,
   "metadata": {},
   "outputs": [
    {
     "data": {
      "text/plain": [
       "([[500, 9], [50, 7], [10, 0], [1, 0]], 16)"
      ]
     },
     "execution_count": 8,
     "metadata": {},
     "output_type": "execute_result"
    }
   ],
   "source": [
    "greedy(4850, coin_list)"
   ]
  },
  {
   "cell_type": "markdown",
   "metadata": {},
   "source": [
    "#### a,b = map(int,input().split())\n",
    "coin_list = []\n",
    "for _ in range(a):\n",
    "    coin = int(input())\n",
    "    coin_list.append(coin)\n",
    "print(coint_list)"
   ]
  },
  {
   "cell_type": "markdown",
   "metadata": {},
   "source": [
    "#### a,b = map(int,input().split())\n",
    "coin_list = []\n",
    "for _ in range(a):\n",
    "    coin = int(input())\n",
    "    coin_list.append(coin)\n",
    "print(coin_list)"
   ]
  },
  {
   "cell_type": "code",
   "execution_count": 16,
   "metadata": {},
   "outputs": [
    {
     "name": "stdin",
     "output_type": "stream",
     "text": [
      " 10 4200\n",
      " 1\n",
      " 5\n",
      " 10\n",
      " 50\n",
      " 100\n",
      " 500\n",
      " 1000\n",
      " 5000\n",
      " 10000\n",
      " 50000\n"
     ]
    },
    {
     "name": "stdout",
     "output_type": "stream",
     "text": [
      "6\n"
     ]
    }
   ],
   "source": [
    "num,value = map(int,input().split())\n",
    "coin_list = [int(input()) for _ in range(num)]\n",
    "coin_count=0\n",
    "coin_list.sort(reverse=True)\n",
    "for coin in coin_list:\n",
    "    count = value // coin\n",
    "    value -= count * coin\n",
    "    coin_count += count\n",
    "print(coin_count)\n",
    "    "
   ]
  },
  {
   "cell_type": "markdown",
   "metadata": {},
   "source": [
    "abe = [1,53,5]\n"
   ]
  },
  {
   "cell_type": "code",
   "execution_count": 7,
   "metadata": {},
   "outputs": [
    {
     "name": "stdout",
     "output_type": "stream",
     "text": [
      "[61, 9, 7, 5, 5, 2, 1]\n"
     ]
    }
   ],
   "source": [
    "abc= [1,5,9,7,5,61,2]\n",
    "abc.sort(reverse=True)\n",
    "print(abc)"
   ]
  },
  {
   "cell_type": "code",
   "execution_count": 5,
   "metadata": {},
   "outputs": [
    {
     "name": "stdin",
     "output_type": "stream",
     "text": [
      " 380\n"
     ]
    },
    {
     "name": "stdout",
     "output_type": "stream",
     "text": [
      "4\n"
     ]
    }
   ],
   "source": [
    "coin_list= [500,100,50,10,5,1]\n",
    "tmp = int(input())\n",
    "value = 1000 - tmp\n",
    "coin_count = 0\n",
    "for coin in coin_list:\n",
    "    coin_count += value//coin\n",
    "    value %= coin\n",
    "    \n",
    "    \n",
    "print(coin_count)"
   ]
  },
  {
   "cell_type": "code",
   "execution_count": 41,
   "metadata": {},
   "outputs": [
    {
     "name": "stdin",
     "output_type": "stream",
     "text": [
      " 1010\n"
     ]
    },
    {
     "name": "stdout",
     "output_type": "stream",
     "text": [
      "2\n"
     ]
    }
   ],
   "source": [
    "tmp = input()\n",
    "zero_list=0\n",
    "one_list=0\n",
    "if tmp[0] == '1':\n",
    "    one_list +=1\n",
    "           \n",
    "if tmp[0] == '0':\n",
    "    zero_list +=1\n",
    "    \n",
    "    \n",
    "for index in range(len(tmp) -1):\n",
    "    \n",
    "    if tmp[index] != tmp[index+1]:\n",
    "        \n",
    "        if tmp[index+1] == '1':\n",
    "            one_list +=1\n",
    "           \n",
    "        if tmp[index+1] == '0':\n",
    "            zero_list +=1\n",
    "            \n",
    "print(min(zero_list,one_list))"
   ]
  },
  {
   "cell_type": "code",
   "execution_count": 10,
   "metadata": {},
   "outputs": [
    {
     "name": "stdin",
     "output_type": "stream",
     "text": [
      " 5\n",
      " 1\n",
      " 5\n",
      " 3\n",
      " 1\n",
      " 2\n"
     ]
    },
    {
     "name": "stdout",
     "output_type": "stream",
     "text": [
      "3\n"
     ]
    }
   ],
   "source": [
    "num = int(input())\n",
    "tmp = [int(input()) for _ in range(num)]\n",
    "tmp.sort()\n",
    "sat = 0\n",
    "\n",
    "for index in range(num):\n",
    "    unsat = tmp[index] - index -1\n",
    "    sat += abs(unsat)\n",
    "print(sat)"
   ]
  },
  {
   "cell_type": "code",
   "execution_count": 4,
   "metadata": {},
   "outputs": [
    {
     "ename": "ValueError",
     "evalue": "invalid literal for int() with base 10: ''",
     "output_type": "error",
     "traceback": [
      "\u001b[1;31m---------------------------------------------------------------------------\u001b[0m",
      "\u001b[1;31mValueError\u001b[0m                                Traceback (most recent call last)",
      "\u001b[1;32m<ipython-input-4-1a0b57aeb2b7>\u001b[0m in \u001b[0;36m<module>\u001b[1;34m\u001b[0m\n\u001b[0;32m      1\u001b[0m \u001b[1;32mimport\u001b[0m \u001b[0msys\u001b[0m\u001b[1;33m\u001b[0m\u001b[1;33m\u001b[0m\u001b[0m\n\u001b[1;32m----> 2\u001b[1;33m \u001b[0mcrain_count\u001b[0m \u001b[1;33m=\u001b[0m \u001b[0mint\u001b[0m\u001b[1;33m(\u001b[0m\u001b[0msys\u001b[0m\u001b[1;33m.\u001b[0m\u001b[0mstdin\u001b[0m\u001b[1;33m.\u001b[0m\u001b[0mreadline\u001b[0m\u001b[1;33m(\u001b[0m\u001b[1;33m)\u001b[0m\u001b[1;33m)\u001b[0m\u001b[1;33m\u001b[0m\u001b[1;33m\u001b[0m\u001b[0m\n\u001b[0m\u001b[0;32m      3\u001b[0m \u001b[0mcrain_list\u001b[0m \u001b[1;33m=\u001b[0m \u001b[0mlist\u001b[0m\u001b[1;33m(\u001b[0m\u001b[0mmap\u001b[0m\u001b[1;33m(\u001b[0m\u001b[0mint\u001b[0m\u001b[1;33m,\u001b[0m\u001b[0msys\u001b[0m\u001b[1;33m.\u001b[0m\u001b[0mstdin\u001b[0m\u001b[1;33m.\u001b[0m\u001b[0mreadline\u001b[0m\u001b[1;33m(\u001b[0m\u001b[1;33m)\u001b[0m\u001b[1;33m.\u001b[0m\u001b[0msplit\u001b[0m\u001b[1;33m(\u001b[0m\u001b[1;33m)\u001b[0m\u001b[1;33m)\u001b[0m\u001b[1;33m)\u001b[0m\u001b[1;33m\u001b[0m\u001b[1;33m\u001b[0m\u001b[0m\n\u001b[0;32m      4\u001b[0m \u001b[0mbox_count\u001b[0m \u001b[1;33m=\u001b[0m \u001b[0mint\u001b[0m\u001b[1;33m(\u001b[0m\u001b[0msys\u001b[0m\u001b[1;33m.\u001b[0m\u001b[0mstdin\u001b[0m\u001b[1;33m.\u001b[0m\u001b[0mreadline\u001b[0m\u001b[1;33m(\u001b[0m\u001b[1;33m)\u001b[0m\u001b[1;33m)\u001b[0m\u001b[1;33m\u001b[0m\u001b[1;33m\u001b[0m\u001b[0m\n\u001b[0;32m      5\u001b[0m \u001b[0mbox_list\u001b[0m \u001b[1;33m=\u001b[0m \u001b[0mlist\u001b[0m\u001b[1;33m(\u001b[0m\u001b[0mmap\u001b[0m\u001b[1;33m(\u001b[0m\u001b[0mint\u001b[0m\u001b[1;33m,\u001b[0m\u001b[0msys\u001b[0m\u001b[1;33m.\u001b[0m\u001b[0mstdin\u001b[0m\u001b[1;33m.\u001b[0m\u001b[0mreadline\u001b[0m\u001b[1;33m(\u001b[0m\u001b[1;33m)\u001b[0m\u001b[1;33m.\u001b[0m\u001b[0msplit\u001b[0m\u001b[1;33m(\u001b[0m\u001b[1;33m)\u001b[0m\u001b[1;33m)\u001b[0m\u001b[1;33m)\u001b[0m\u001b[1;33m\u001b[0m\u001b[1;33m\u001b[0m\u001b[0m\n",
      "\u001b[1;31mValueError\u001b[0m: invalid literal for int() with base 10: ''"
     ]
    }
   ],
   "source": [
    "import sys\n",
    "crain_count = int(sys.stdin.readline())\n",
    "crain_list = list(map(int,sys.stdin.readline().split()))\n",
    "box_count = int(sys.stdin.readline())\n",
    "box_list = list(map(int,sys.stdin.readline().split()))\n",
    "\n",
    "crain_list.sort(reverse=True)\n",
    "box_list.sort(reverse=True)\n",
    "\n",
    "time = 0\n",
    "if crain_list[0] < box_list[0]:\n",
    "    print(-1)\n",
    "    exit()\n",
    "\n",
    "while True:\n",
    "    time +=1\n",
    "    for crain in crain_list:\n",
    "        print(crain)\n",
    "        if not box_list :\n",
    "            break\n",
    "        box_list.sort(key= lambda x: x>crain)\n",
    "        if box_list[0] < crain:\n",
    "            print(box_list)\n",
    "            box_list.pop(0)\n",
    "    if not box_list:\n",
    "        break\n",
    "print(time)"
   ]
  },
  {
   "cell_type": "markdown",
   "metadata": {},
   "source": [
    "box_list.sort(key= lambda(x)"
   ]
  },
  {
   "cell_type": "code",
   "execution_count": 36,
   "metadata": {},
   "outputs": [
    {
     "name": "stdout",
     "output_type": "stream",
     "text": [
      "[5, 6, 7, 8, 9, 1, 2, 3, 4]\n"
     ]
    }
   ],
   "source": [
    "abc= 4.5\n",
    "qwe=[1,2,3,4,5,6,7,8,9]\n",
    "qwe.sort(key= lambda x: x<abc)\n",
    "print(qwe)"
   ]
  },
  {
   "cell_type": "code",
   "execution_count": 19,
   "metadata": {},
   "outputs": [
    {
     "data": {
      "text/plain": [
       "[]"
      ]
     },
     "execution_count": 19,
     "metadata": {},
     "output_type": "execute_result"
    }
   ],
   "source": [
    "box_list"
   ]
  },
  {
   "cell_type": "code",
   "execution_count": 5,
   "metadata": {},
   "outputs": [
    {
     "name": "stdin",
     "output_type": "stream",
     "text": [
      " 3\n",
      " 6 8 9\n",
      " 5\n",
      " 2 5 2 4 7\n"
     ]
    },
    {
     "name": "stdout",
     "output_type": "stream",
     "text": [
      "2\n"
     ]
    }
   ],
   "source": [
    "import sys\n",
    "crain_count = int(sys.stdin.readline())\n",
    "crain_list = list(map(int,sys.stdin.readline().split()))\n",
    "box_count = int(sys.stdin.readline())\n",
    "box_list = list(map(int,sys.stdin.readline().split()))\n",
    "\n",
    "crain_list.sort(reverse=True)\n",
    "box_list.sort(reverse=True)\n",
    "\n",
    "time = 0\n",
    "if crain_list[0] < box_list[0]:\n",
    "    print(-1)\n",
    "    exit()\n",
    "\n",
    "while True:\n",
    "    if not box_list:\n",
    "        break\n",
    "    time +=1\n",
    "    for crain in crain_list:\n",
    "        box_list.sort(key= lambda x: x>crain)\n",
    "        if not box_list :\n",
    "            break\n",
    "        if box_list[0] < crain:            \n",
    "            box_list.pop(0)\n",
    "print(time)\n",
    "   \n"
   ]
  },
  {
   "cell_type": "code",
   "execution_count": null,
   "metadata": {},
   "outputs": [],
   "source": []
  },
  {
   "cell_type": "code",
   "execution_count": null,
   "metadata": {},
   "outputs": [],
   "source": []
  },
  {
   "cell_type": "code",
   "execution_count": null,
   "metadata": {},
   "outputs": [],
   "source": []
  },
  {
   "cell_type": "code",
   "execution_count": null,
   "metadata": {},
   "outputs": [],
   "source": []
  },
  {
   "cell_type": "code",
   "execution_count": null,
   "metadata": {},
   "outputs": [],
   "source": []
  },
  {
   "cell_type": "code",
   "execution_count": null,
   "metadata": {},
   "outputs": [],
   "source": []
  },
  {
   "cell_type": "code",
   "execution_count": null,
   "metadata": {},
   "outputs": [],
   "source": []
  },
  {
   "cell_type": "code",
   "execution_count": null,
   "metadata": {},
   "outputs": [],
   "source": []
  },
  {
   "cell_type": "code",
   "execution_count": null,
   "metadata": {},
   "outputs": [],
   "source": []
  }
 ],
 "metadata": {
  "kernelspec": {
   "display_name": "Python 3",
   "language": "python",
   "name": "python3"
  },
  "language_info": {
   "codemirror_mode": {
    "name": "ipython",
    "version": 3
   },
   "file_extension": ".py",
   "mimetype": "text/x-python",
   "name": "python",
   "nbconvert_exporter": "python",
   "pygments_lexer": "ipython3",
   "version": "3.8.5"
  }
 },
 "nbformat": 4,
 "nbformat_minor": 4
}
