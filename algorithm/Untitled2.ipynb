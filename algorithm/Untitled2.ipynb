{
 "cells": [
  {
   "cell_type": "code",
   "execution_count": null,
   "metadata": {},
   "outputs": [],
   "source": [
    "class Node:\n",
    "    def __init__(self,data,next=None):\n",
    "        self.data = data\n",
    "        self.next = next\n",
    "class LinkedList: #LinkedList 클래스안에서 Node클래스를 호출해서 사용하게 만듬 \n",
    "    def __init__(self,data):\n",
    "        self.head = Node(data)\n",
    "    def add(self,data): \n",
    "        if self.head=='': #만약에라도 혹시 값이 없을 때 오류를 방지하기 위해서 head 가 비어있다면\n",
    "            self.head = Node(data) #첫번째 노드에 값을 넣고 그것을 head로 하것다.\n",
    "        else:\n",
    "            node = self.head\n",
    "            while node.next:\n",
    "                node = node.next\n",
    "            node.next = Node(data)\n",
    "    def display(self):\n",
    "        node = self.head\n",
    "        while node:\n",
    "            print(node.data)\n",
    "            node = node.next\n",
    "    def delete(self,data):  # 원하는 데이터 삭제\n",
    "        if self.head =='': #비어있는 링크드 리스트인경우\n",
    "            print(\"해당 값을 가진 노드가 없습니다.\")\n",
    "            return\n",
    "        if self.head.data == data: #삭제하려고 하는 데이터가 첫번재 노드인 경우\n",
    "            tmp = self.head\n",
    "            self.head = self.head.next\n",
    "            del tmp #삭제하려는 주소를 메모리에서 삭제\n",
    "        else: #삭제하려고 하는 데이터가 첫번째 노드가 아닌경우\n",
    "            node = self.head\n",
    "            while node.next:\n",
    "                if node.next.data == data: #이미 첫번재 노드가 아니기 때문에 node.next 부터 검사\n",
    "                    tmp = node.next\n",
    "                    node.next = node.next.next\n",
    "                    del tmp\n",
    "                    pass\n",
    "                else:\n",
    "                    node = node.next       \n",
    "    def search(self,data):\n",
    "        node = self.head\n",
    "        while node:\n",
    "            if node.data==data:\n",
    "                return print(node.data,'를 찾았습니다.')\n",
    "                "
   ]
  },
  {
   "cell_type": "code",
   "execution_count": null,
   "metadata": {},
   "outputs": [],
   "source": [
    "test = LinkedList(0)\n",
    "for index in range(1,5):\n",
    "    test.add(index)\n",
    "test.display()"
   ]
  },
  {
   "cell_type": "code",
   "execution_count": null,
   "metadata": {},
   "outputs": [],
   "source": [
    "test.delete(3)\n",
    "test.display()"
   ]
  },
  {
   "cell_type": "code",
   "execution_count": null,
   "metadata": {},
   "outputs": [],
   "source": []
  }
 ],
 "metadata": {
  "kernelspec": {
   "display_name": "Python 3",
   "language": "python",
   "name": "python3"
  },
  "language_info": {
   "codemirror_mode": {
    "name": "ipython",
    "version": 3
   },
   "file_extension": ".py",
   "mimetype": "text/x-python",
   "name": "python",
   "nbconvert_exporter": "python",
   "pygments_lexer": "ipython3",
   "version": "3.8.5"
  }
 },
 "nbformat": 4,
 "nbformat_minor": 4
}
