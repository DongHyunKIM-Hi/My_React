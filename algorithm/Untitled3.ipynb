{
 "cells": [
  {
   "cell_type": "code",
   "execution_count": null,
   "metadata": {},
   "outputs": [],
   "source": [
    "class Node:\n",
    "    def __init__(self,data, next=None,prev=None):\n",
    "        self.data = data\n",
    "        self.next = next\n",
    "        self.prev = prev\n",
    "\n",
    "class doubleLink:\n",
    "    def __init__(self,data):\n",
    "        self.head = Node(data)\n",
    "        self.tail = self.head\n",
    "    \n",
    "    def insert(self,data):\n",
    "        if self.head == None:\n",
    "            self.head = Node(data)\n",
    "            self.tail = self.head\n",
    "        else:\n",
    "            node = self.head\n",
    "            while node.next :\n",
    "                node = node.next\n",
    "            new = Node(data)\n",
    "            node.next = new\n",
    "            new.prev = node\n",
    "            self.tail = new\n",
    "    \n",
    "    def search_head(self,data):\n",
    "        if self.head == None:\n",
    "            return False\n",
    "        else:\n",
    "            node = self.head\n",
    "            while node.next:\n",
    "                if node.data == data:\n",
    "                    return print('find the data: ', data)\n",
    "                else:\n",
    "                    node = node.next\n",
    "            return False\n",
    "    \n",
    "    def search_tail(self,data):\n",
    "        if self.head == None:\n",
    "            return False\n",
    "        else:\n",
    "            node = self.tail\n",
    "            while node.prev:\n",
    "                if node.data == data:\n",
    "                    return print('find the data: ', data)\n",
    "                    \n",
    "                else:\n",
    "                    node = node.prev\n",
    "            return False\n",
    "    \n",
    "    def insert_before(self, data, before_data):\n",
    "        if self.search_head(self,before_data) == False:\n",
    "            return print('값을 찾을 수 없습니다.')\n",
    "        else:\n",
    "            return print('성공')\n",
    "            "
   ]
  },
  {
   "cell_type": "code",
   "execution_count": null,
   "metadata": {},
   "outputs": [],
   "source": [
    "test = doubleLink(0)\n",
    "for data in range(1,5):\n",
    "    test.insert(data)\n"
   ]
  },
  {
   "cell_type": "code",
   "execution_count": null,
   "metadata": {},
   "outputs": [],
   "source": [
    "test.search_tail(3)"
   ]
  },
  {
   "cell_type": "code",
   "execution_count": null,
   "metadata": {},
   "outputs": [],
   "source": []
  }
 ],
 "metadata": {
  "kernelspec": {
   "display_name": "Python 3",
   "language": "python",
   "name": "python3"
  },
  "language_info": {
   "codemirror_mode": {
    "name": "ipython",
    "version": 3
   },
   "file_extension": ".py",
   "mimetype": "text/x-python",
   "name": "python",
   "nbconvert_exporter": "python",
   "pygments_lexer": "ipython3",
   "version": "3.8.5"
  }
 },
 "nbformat": 4,
 "nbformat_minor": 4
}
