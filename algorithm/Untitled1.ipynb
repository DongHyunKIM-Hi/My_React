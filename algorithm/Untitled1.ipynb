{
 "cells": [
  {
   "cell_type": "code",
   "execution_count": 4,
   "metadata": {},
   "outputs": [],
   "source": [
    "def search(A):\n",
    "    n = len(A)\n",
    "    for i in  range(n-1):\n",
    "        least = i\n",
    "        for j in range(i+1,n):\n",
    "            if(A[least]>A[j]):\n",
    "                least = j\n",
    "        A[i] , A[least] = A[least] , A[i]\n",
    "        print(A, i+1,\"번째 실행결과\")"
   ]
  },
  {
   "cell_type": "code",
   "execution_count": 5,
   "metadata": {},
   "outputs": [
    {
     "name": "stdout",
     "output_type": "stream",
     "text": [
      "[1, 3, 8, 4, 9, 5, 6, 2, 7] 1 번째 실행결과\n",
      "[1, 2, 8, 4, 9, 5, 6, 3, 7] 2 번째 실행결과\n",
      "[1, 2, 3, 4, 9, 5, 6, 8, 7] 3 번째 실행결과\n",
      "[1, 2, 3, 4, 9, 5, 6, 8, 7] 4 번째 실행결과\n",
      "[1, 2, 3, 4, 5, 9, 6, 8, 7] 5 번째 실행결과\n",
      "[1, 2, 3, 4, 5, 6, 9, 8, 7] 6 번째 실행결과\n",
      "[1, 2, 3, 4, 5, 6, 7, 8, 9] 7 번째 실행결과\n",
      "[1, 2, 3, 4, 5, 6, 7, 8, 9] 8 번째 실행결과\n"
     ]
    }
   ],
   "source": [
    "A = [5,3,8,4,9,1,6,2,7]\n",
    "search(A)"
   ]
  },
  {
   "cell_type": "code",
   "execution_count": null,
   "metadata": {},
   "outputs": [],
   "source": []
  }
 ],
 "metadata": {
  "kernelspec": {
   "display_name": "Python 3",
   "language": "python",
   "name": "python3"
  },
  "language_info": {
   "codemirror_mode": {
    "name": "ipython",
    "version": 3
   },
   "file_extension": ".py",
   "mimetype": "text/x-python",
   "name": "python",
   "nbconvert_exporter": "python",
   "pygments_lexer": "ipython3",
   "version": "3.8.5"
  }
 },
 "nbformat": 4,
 "nbformat_minor": 4
}
