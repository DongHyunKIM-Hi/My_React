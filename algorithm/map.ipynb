{
 "cells": [
  {
   "cell_type": "code",
   "execution_count": 11,
   "metadata": {},
   "outputs": [],
   "source": [
    "def delete_case1(parent, node, root):\n",
    "    if parent is None: # 부모가 없다면 \n",
    "        root = None # root는 공백 트리이다.\n",
    "    else :\n",
    "        if parent.left == node : #왼쪽 자식의 노드가 삭제할 노드라면\n",
    "            parent.left = None # 왼쪽 자식의 노드를 None으로 지워준다.\n",
    "        else : #오른쪽 자식의 노드가 삭제할 노드라면\n",
    "            parent.right = None #오른쪽 자식의 노드를 None으로 지워준다.\n",
    "    return root"
   ]
  },
  {
   "cell_type": "code",
   "execution_count": 12,
   "metadata": {},
   "outputs": [],
   "source": [
    "def delete_case2(parent, node, root): #자식이 하나인 노드의 삭제\n",
    "    if node.left is not None: # 노드의 자식이 왼쪽일 때\n",
    "        child = node.left # child에 왼쪽 자식의 값 넣기\n",
    "    else : # 노드의 자식이 오른쪽일 때\n",
    "        child = node.right #child에 오른쪽 자식의 값 넣기\n",
    "    \n",
    "    if node == root : # 삭제하려는 노드가 루트일 경우 \n",
    "        root = child #루트 노드에 child 값 넣기\n",
    "    else: #삭제하려는 노드가 루트 노드가 아닌경우\n",
    "        if node is parent.left: #삭제 하려는 노드가 부모의 왼쪽 자식이면\n",
    "            parent.left = child #삭제한 자리에 child 값 넣기 \n",
    "        else: #삭제 하려는 노드가 부모의 오른쪽 자식이라면\n",
    "            parent.right = child #삭제한 자리에 child 값 넣기\n",
    "    return root"
   ]
  },
  {
   "cell_type": "code",
   "execution_count": 13,
   "metadata": {},
   "outputs": [],
   "source": [
    "def delete_case3(parent,node,root):\n",
    "    succp = node #후계자의 부모 노드\n",
    "    succ = node.right #후계자 노드 (임의로 오른쪽의 값을 선택함)\n",
    "    while (succ.left != None) : # 오른쪽을 선택했으니 가장 작은 값을 찾는 과정\n",
    "        succp = succ\n",
    "        succ = succ.left\n",
    "    if (succp.left == succ) :\n",
    "        succp.left = uscc.right\n",
    "    else:\n",
    "        succp.right=succ.right\n",
    "    node.key = succ.key\n",
    "    node.value=succ.value\n",
    "    node=succ;\n",
    "    \n",
    "    return root"
   ]
  },
  {
   "cell_type": "code",
   "execution_count": 14,
   "metadata": {},
   "outputs": [],
   "source": [
    "def delete_all_case(root,key):\n",
    "    if root == None : return None #공백 트리인 경우 공백으로 반환\n",
    "    \n",
    "    parent = None #삭제할 노드의 부모 변수 선언\n",
    "    node = root #삭제할 노드 탐색\n",
    "    while node != None and node.key != key: #전체노드에서 삭제할 노드를 찾는 과정\n",
    "        parent = node \n",
    "        if key < node.key : node = node.left\n",
    "        else : node = node.right;\n",
    "    # 삭제하려는 노드를 찾음 거나 삭제할 노드가 존재하지 않음\n",
    "    if node == None: return None # 삭제할 노드가 존재하지 않음\n",
    "    if node.left == None and node.right == None: #삭제하려고 하는 노드가 단말 노드인 경우\n",
    "        root = delete_case1(parent,node,root)\n",
    "    elif node.left == None or node.right == None: # 삭제하려고 하는 노드의 자삭이 하나 인경우\n",
    "        root = delete_case2(parent,node,root)\n",
    "    else: # 삭제하려고 하는 노드가 2개인 경우\n",
    "        root = delete_case3(parent,node,root)\n",
    "    return root"
   ]
  },
  {
   "cell_type": "code",
   "execution_count": 15,
   "metadata": {},
   "outputs": [],
   "source": [
    "class BSTNode:\n",
    "    def __init__(self,key,value):\n",
    "        self.key = key\n",
    "        self.value= value\n",
    "        self.left = None\n",
    "        self.right= None"
   ]
  },
  {
   "cell_type": "code",
   "execution_count": 39,
   "metadata": {},
   "outputs": [],
   "source": [
    "def search(n,key):\n",
    "    if n == None:\n",
    "        return None\n",
    "    elif key == n.key:\n",
    "        return n\n",
    "    elif key < n.key:\n",
    "        return search(n.left,key)\n",
    "    else:\n",
    "        return search(n.right,key)\n",
    "def search_max(n) :\n",
    "    while n != None and n.right != None:\n",
    "        n = n.right\n",
    "    return n\n",
    "def search_min(n):\n",
    "    while n != None and n.left != None:\n",
    "        n = n.left\n",
    "    return n\n",
    "def insert_node(new,tree):\n",
    "    if new.key < tree.key:  # 새로운 노드의 값이 기존 노드의 값보다 작으면 \n",
    "        if tree.left is None: # 기존 노드의 왼쪽 자식이 없으면 \n",
    "            tree.left = new # 왼쪽 노드의 값에 새로운 노드 값 삽입\n",
    "            return True\n",
    "        else : # 기존 노드의 왼쪽 자식이 있다면\n",
    "            return insert_node(new,tree.left) # 기존 노드의 왼쪽 자식의 값과 새로운 값 비교\n",
    "            \n",
    "            \n",
    "    elif new.key > tree.key: # 새로운 값이 기존 노드의 값보다 크다면 \n",
    "        if tree.right is None: # 기존 노드의 오른쪽 자식이 없으면\n",
    "            tree.right = new # 기존 노드의 오른쪽 값에 새로운 노드 값 삽입\n",
    "            return True\n",
    "        else : # 기존 노드의 오른쪽 자식이 있다면 \n",
    "            return insert_node(new, tree.right) # 기존 노드의 오른쪽 자식의 값과 새로운 값 비교\n",
    "    else :\n",
    "        return False\n",
    "def display(self, msg = \"BSTMap :\"):\n",
    "    print(msg, end = '')\n",
    "    inorder(self.root)\n",
    "    print()\n",
    "\n",
    "def inorder(n):\n",
    "    if n is not None:\n",
    "        inorder(n.left) # 왼쪽 서브트리 처리\n",
    "        print(n.data, end='') # 루트노드 처리\n",
    "        inorder(n.right) # 오른쪽 서브트리 처리    "
   ]
  },
  {
   "cell_type": "code",
   "execution_count": 43,
   "metadata": {},
   "outputs": [],
   "source": [
    "class BSTMap():\n",
    "    def __init__(self):\n",
    "        self.root = None\n",
    "    def isEmpty (self): return self.root == None\n",
    "    def clear(self): self.root = None\n",
    "    def size(self): return count_node(self.root)\n",
    "    def search(self,key): return search(self.root,key)\n",
    "    def searchValue(self,key): return search_value(self.root,key)\n",
    "    def findMax(self): return search_max(self.root)\n",
    "    def findMin(self): return search_min(self.root)\n",
    "    def display(self, msg = \"BSTMap :\"):\n",
    "        print(msg, end = '')\n",
    "        inorder(self.root)\n",
    "        print()\n",
    "    def insert(self,key,value=None):\n",
    "        n = BSTNode(key,value)\n",
    "        if self.isEmpty():\n",
    "            self.root = n\n",
    "        else:\n",
    "            insert_node(self.root,n)\n",
    "    def delete(self,key):\n",
    "        self.root = delete_all_case(self.root,key)"
   ]
  },
  {
   "cell_type": "code",
   "execution_count": 44,
   "metadata": {},
   "outputs": [
    {
     "name": "stdout",
     "output_type": "stream",
     "text": [
      "[삽입 연산] :  [35, 18, 7, 26, 12, 3, 68, 22, 30, 99]\n",
      "중위 순회: "
     ]
    },
    {
     "ename": "AttributeError",
     "evalue": "'BSTNode' object has no attribute 'data'",
     "output_type": "error",
     "traceback": [
      "\u001b[1;31m---------------------------------------------------------------------------\u001b[0m",
      "\u001b[1;31mAttributeError\u001b[0m                            Traceback (most recent call last)",
      "\u001b[1;32m<ipython-input-44-a5b555cc200e>\u001b[0m in \u001b[0;36m<module>\u001b[1;34m\u001b[0m\n\u001b[0;32m      4\u001b[0m \u001b[1;32mfor\u001b[0m \u001b[0mkey\u001b[0m \u001b[1;32min\u001b[0m \u001b[0mdata\u001b[0m\u001b[1;33m:\u001b[0m\u001b[1;33m\u001b[0m\u001b[1;33m\u001b[0m\u001b[0m\n\u001b[0;32m      5\u001b[0m     \u001b[0mmap\u001b[0m\u001b[1;33m.\u001b[0m\u001b[0minsert\u001b[0m\u001b[1;33m(\u001b[0m\u001b[0mkey\u001b[0m\u001b[1;33m)\u001b[0m\u001b[1;33m\u001b[0m\u001b[1;33m\u001b[0m\u001b[0m\n\u001b[1;32m----> 6\u001b[1;33m \u001b[0mmap\u001b[0m\u001b[1;33m.\u001b[0m\u001b[0mdisplay\u001b[0m\u001b[1;33m(\u001b[0m\u001b[1;34m\"중위 순회: \"\u001b[0m\u001b[1;33m)\u001b[0m\u001b[1;33m\u001b[0m\u001b[1;33m\u001b[0m\u001b[0m\n\u001b[0m\u001b[0;32m      7\u001b[0m \u001b[1;32mif\u001b[0m \u001b[0mmap\u001b[0m\u001b[1;33m.\u001b[0m\u001b[0msearch\u001b[0m\u001b[1;33m(\u001b[0m\u001b[1;36m26\u001b[0m\u001b[1;33m)\u001b[0m \u001b[1;33m!=\u001b[0m \u001b[1;32mNone\u001b[0m \u001b[1;33m:\u001b[0m \u001b[0mprint\u001b[0m\u001b[1;33m(\u001b[0m\u001b[1;34m\"탐색 26: 성공\"\u001b[0m\u001b[1;33m)\u001b[0m\u001b[1;33m\u001b[0m\u001b[1;33m\u001b[0m\u001b[0m\n\u001b[0;32m      8\u001b[0m \u001b[1;32melse\u001b[0m \u001b[1;33m:\u001b[0m \u001b[0mprint\u001b[0m\u001b[1;33m(\u001b[0m\u001b[1;34m\"탐색 실패\"\u001b[0m\u001b[1;33m)\u001b[0m\u001b[1;33m\u001b[0m\u001b[1;33m\u001b[0m\u001b[0m\n",
      "\u001b[1;32m<ipython-input-43-d2dae9f45e40>\u001b[0m in \u001b[0;36mdisplay\u001b[1;34m(self, msg)\u001b[0m\n\u001b[0;32m     11\u001b[0m     \u001b[1;32mdef\u001b[0m \u001b[0mdisplay\u001b[0m\u001b[1;33m(\u001b[0m\u001b[0mself\u001b[0m\u001b[1;33m,\u001b[0m \u001b[0mmsg\u001b[0m \u001b[1;33m=\u001b[0m \u001b[1;34m\"BSTMap :\"\u001b[0m\u001b[1;33m)\u001b[0m\u001b[1;33m:\u001b[0m\u001b[1;33m\u001b[0m\u001b[1;33m\u001b[0m\u001b[0m\n\u001b[0;32m     12\u001b[0m         \u001b[0mprint\u001b[0m\u001b[1;33m(\u001b[0m\u001b[0mmsg\u001b[0m\u001b[1;33m,\u001b[0m \u001b[0mend\u001b[0m \u001b[1;33m=\u001b[0m \u001b[1;34m''\u001b[0m\u001b[1;33m)\u001b[0m\u001b[1;33m\u001b[0m\u001b[1;33m\u001b[0m\u001b[0m\n\u001b[1;32m---> 13\u001b[1;33m         \u001b[0minorder\u001b[0m\u001b[1;33m(\u001b[0m\u001b[0mself\u001b[0m\u001b[1;33m.\u001b[0m\u001b[0mroot\u001b[0m\u001b[1;33m)\u001b[0m\u001b[1;33m\u001b[0m\u001b[1;33m\u001b[0m\u001b[0m\n\u001b[0m\u001b[0;32m     14\u001b[0m         \u001b[0mprint\u001b[0m\u001b[1;33m(\u001b[0m\u001b[1;33m)\u001b[0m\u001b[1;33m\u001b[0m\u001b[1;33m\u001b[0m\u001b[0m\n\u001b[0;32m     15\u001b[0m     \u001b[1;32mdef\u001b[0m \u001b[0minsert\u001b[0m\u001b[1;33m(\u001b[0m\u001b[0mself\u001b[0m\u001b[1;33m,\u001b[0m\u001b[0mkey\u001b[0m\u001b[1;33m,\u001b[0m\u001b[0mvalue\u001b[0m\u001b[1;33m=\u001b[0m\u001b[1;32mNone\u001b[0m\u001b[1;33m)\u001b[0m\u001b[1;33m:\u001b[0m\u001b[1;33m\u001b[0m\u001b[1;33m\u001b[0m\u001b[0m\n",
      "\u001b[1;32m<ipython-input-39-eccdf92c7ccb>\u001b[0m in \u001b[0;36minorder\u001b[1;34m(n)\u001b[0m\n\u001b[0;32m     41\u001b[0m     \u001b[1;32mif\u001b[0m \u001b[0mn\u001b[0m \u001b[1;32mis\u001b[0m \u001b[1;32mnot\u001b[0m \u001b[1;32mNone\u001b[0m\u001b[1;33m:\u001b[0m\u001b[1;33m\u001b[0m\u001b[1;33m\u001b[0m\u001b[0m\n\u001b[0;32m     42\u001b[0m         \u001b[0minorder\u001b[0m\u001b[1;33m(\u001b[0m\u001b[0mn\u001b[0m\u001b[1;33m.\u001b[0m\u001b[0mleft\u001b[0m\u001b[1;33m)\u001b[0m \u001b[1;31m# 왼쪽 서브트리 처리\u001b[0m\u001b[1;33m\u001b[0m\u001b[1;33m\u001b[0m\u001b[0m\n\u001b[1;32m---> 43\u001b[1;33m         \u001b[0mprint\u001b[0m\u001b[1;33m(\u001b[0m\u001b[0mn\u001b[0m\u001b[1;33m.\u001b[0m\u001b[0mdata\u001b[0m\u001b[1;33m,\u001b[0m \u001b[0mend\u001b[0m\u001b[1;33m=\u001b[0m\u001b[1;34m''\u001b[0m\u001b[1;33m)\u001b[0m \u001b[1;31m# 루트노드 처리\u001b[0m\u001b[1;33m\u001b[0m\u001b[1;33m\u001b[0m\u001b[0m\n\u001b[0m\u001b[0;32m     44\u001b[0m         \u001b[0minorder\u001b[0m\u001b[1;33m(\u001b[0m\u001b[0mn\u001b[0m\u001b[1;33m.\u001b[0m\u001b[0mright\u001b[0m\u001b[1;33m)\u001b[0m \u001b[1;31m# 오른쪽 서브트리 처리\u001b[0m\u001b[1;33m\u001b[0m\u001b[1;33m\u001b[0m\u001b[0m\n",
      "\u001b[1;31mAttributeError\u001b[0m: 'BSTNode' object has no attribute 'data'"
     ]
    }
   ],
   "source": [
    "map = BSTMap()\n",
    "data = [35,18,7,26,12,3,68,22,30,99]\n",
    "print(\"[삽입 연산] : \", data)\n",
    "for key in data:\n",
    "    map.insert(key)\n",
    "map.display(\"중위 순회: \")\n",
    "if map.search(26) != None : print(\"탐색 26: 성공\")\n",
    "else : print(\"탐색 실패\")\n",
    "if map.search(25) != None : print(\"탐색 25 성공\")\n",
    "else : print(\"탐색 실패\")\n",
    "    \n"
   ]
  },
  {
   "cell_type": "code",
   "execution_count": null,
   "metadata": {},
   "outputs": [],
   "source": []
  },
  {
   "cell_type": "code",
   "execution_count": null,
   "metadata": {},
   "outputs": [],
   "source": []
  }
 ],
 "metadata": {
  "kernelspec": {
   "display_name": "Python 3",
   "language": "python",
   "name": "python3"
  },
  "language_info": {
   "codemirror_mode": {
    "name": "ipython",
    "version": 3
   },
   "file_extension": ".py",
   "mimetype": "text/x-python",
   "name": "python",
   "nbconvert_exporter": "python",
   "pygments_lexer": "ipython3",
   "version": "3.8.5"
  }
 },
 "nbformat": 4,
 "nbformat_minor": 4
}
